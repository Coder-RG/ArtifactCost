{
 "cells": [
  {
   "cell_type": "code",
   "execution_count": 1,
   "id": "typical-gambling",
   "metadata": {},
   "outputs": [],
   "source": [
    "import pandas as pd\n",
    "import re\n",
    "from sklearn.model_selection import train_test_split\n",
    "from sklearn.pipeline import Pipeline\n",
    "from sklearn.preprocessing import StandardScaler, OneHotEncoder, PolynomialFeatures, LabelEncoder\n",
    "from sklearn.compose import ColumnTransformer\n",
    "from sklearn.linear_model import LinearRegression\n",
    "from sklearn.impute import SimpleImputer\n",
    "from sklearn.metrics import accuracy_score, mean_squared_log_error"
   ]
  },
  {
   "cell_type": "markdown",
   "id": "general-upset",
   "metadata": {},
   "source": [
    "## Load data into DataFrame"
   ]
  },
  {
   "cell_type": "code",
   "execution_count": 2,
   "id": "peripheral-heath",
   "metadata": {},
   "outputs": [],
   "source": [
    "df_train = pd.read_csv('dataset/train.csv')\n",
    "df_test = pd.read_csv('dataset/test.csv')"
   ]
  },
  {
   "cell_type": "code",
   "execution_count": 3,
   "id": "behavioral-playlist",
   "metadata": {},
   "outputs": [],
   "source": [
    "X = df_train.iloc[:,2:-1]\n",
    "y = df_train.iloc[:,-1]"
   ]
  },
  {
   "cell_type": "code",
   "execution_count": 4,
   "id": "outdoor-tokyo",
   "metadata": {},
   "outputs": [],
   "source": [
    "X_train, X_test, y_train, y_test = train_test_split(X,y, test_size=0.2, shuffle=True)"
   ]
  },
  {
   "cell_type": "markdown",
   "id": "noted-tsunami",
   "metadata": {},
   "source": [
    "## Reviewing the data for any changes"
   ]
  },
  {
   "cell_type": "code",
   "execution_count": null,
   "id": "centered-framework",
   "metadata": {},
   "outputs": [],
   "source": [
    "X_train.head()"
   ]
  },
  {
   "cell_type": "code",
   "execution_count": null,
   "id": "authentic-clinton",
   "metadata": {},
   "outputs": [],
   "source": [
    "X_train.describe()"
   ]
  },
  {
   "cell_type": "code",
   "execution_count": null,
   "id": "modular-constant",
   "metadata": {},
   "outputs": [],
   "source": [
    "X_train['Transport'].nunique()"
   ]
  },
  {
   "cell_type": "code",
   "execution_count": null,
   "id": "protecting-boundary",
   "metadata": {},
   "outputs": [],
   "source": [
    "X_train['Customer Information'].nunique()"
   ]
  },
  {
   "cell_type": "code",
   "execution_count": null,
   "id": "excessive-refund",
   "metadata": {},
   "outputs": [],
   "source": [
    "X_train['Customer Location'].nunique()"
   ]
  },
  {
   "cell_type": "markdown",
   "id": "stuck-nepal",
   "metadata": {},
   "source": [
    "## Prepare the data\n",
    "\n",
    "- Convert categorical data into numerical\n",
    "- set all numerical columns to have symmetry about mean\n",
    "- replace some columns with only import values"
   ]
  },
  {
   "cell_type": "code",
   "execution_count": null,
   "id": "powered-census",
   "metadata": {},
   "outputs": [],
   "source": [
    "print(X_train.shape[0], X_train.shape[1])"
   ]
  },
  {
   "cell_type": "code",
   "execution_count": 18,
   "id": "desperate-humidity",
   "metadata": {},
   "outputs": [
    {
     "data": {
      "text/plain": [
       "Artist Reputation                 0.47\n",
       "Height                            42.0\n",
       "Width                             33.0\n",
       "Weight                      29282087.0\n",
       "Material                         Stone\n",
       "Price Of Sculpture           105746.47\n",
       "Base Shipping Price              50.94\n",
       "International                       No\n",
       "Express Shipment                    No\n",
       "Installation Included               No\n",
       "Transport                     Roadways\n",
       "Fragile                             No\n",
       "Customer Information     Working Class\n",
       "Remote Location                     No\n",
       "Customer Location                   AP\n",
       "Name: 1314, dtype: object"
      ]
     },
     "execution_count": 18,
     "metadata": {},
     "output_type": "execute_result"
    }
   ],
   "source": [
    "X_train.iloc[0,:]"
   ]
  },
  {
   "cell_type": "code",
   "execution_count": 5,
   "id": "sound-clark",
   "metadata": {},
   "outputs": [],
   "source": [
    "def cust_location(df):\n",
    "    p = re.compile(r\".*([A-Z]{2}).*$\")\n",
    "    rows, cols = df.shape\n",
    "    for i in range(rows):\n",
    "        df.iat[i, cols-1] = p.match(df.iat[i, cols-1]).group(1)\n",
    "    return df"
   ]
  },
  {
   "cell_type": "markdown",
   "id": "international-helicopter",
   "metadata": {},
   "source": [
    "## Build the model"
   ]
  },
  {
   "cell_type": "code",
   "execution_count": 6,
   "id": "respective-purple",
   "metadata": {},
   "outputs": [],
   "source": [
    "X_train = X_train.drop(columns=['Scheduled Date', 'Delivery Date'])"
   ]
  },
  {
   "cell_type": "code",
   "execution_count": 7,
   "id": "desperate-replication",
   "metadata": {},
   "outputs": [],
   "source": [
    "X_train = cust_location(X_train)"
   ]
  },
  {
   "cell_type": "code",
   "execution_count": 8,
   "id": "referenced-skill",
   "metadata": {},
   "outputs": [
    {
     "data": {
      "text/html": [
       "<div>\n",
       "<style scoped>\n",
       "    .dataframe tbody tr th:only-of-type {\n",
       "        vertical-align: middle;\n",
       "    }\n",
       "\n",
       "    .dataframe tbody tr th {\n",
       "        vertical-align: top;\n",
       "    }\n",
       "\n",
       "    .dataframe thead th {\n",
       "        text-align: right;\n",
       "    }\n",
       "</style>\n",
       "<table border=\"1\" class=\"dataframe\">\n",
       "  <thead>\n",
       "    <tr style=\"text-align: right;\">\n",
       "      <th></th>\n",
       "      <th>Artist Reputation</th>\n",
       "      <th>Height</th>\n",
       "      <th>Width</th>\n",
       "      <th>Weight</th>\n",
       "      <th>Material</th>\n",
       "      <th>Price Of Sculpture</th>\n",
       "      <th>Base Shipping Price</th>\n",
       "      <th>International</th>\n",
       "      <th>Express Shipment</th>\n",
       "      <th>Installation Included</th>\n",
       "      <th>Transport</th>\n",
       "      <th>Fragile</th>\n",
       "      <th>Customer Information</th>\n",
       "      <th>Remote Location</th>\n",
       "      <th>Customer Location</th>\n",
       "    </tr>\n",
       "  </thead>\n",
       "  <tbody>\n",
       "    <tr>\n",
       "      <th>1314</th>\n",
       "      <td>0.47</td>\n",
       "      <td>42.0</td>\n",
       "      <td>33.0</td>\n",
       "      <td>29282087.0</td>\n",
       "      <td>Stone</td>\n",
       "      <td>105746.47</td>\n",
       "      <td>50.94</td>\n",
       "      <td>No</td>\n",
       "      <td>No</td>\n",
       "      <td>No</td>\n",
       "      <td>Roadways</td>\n",
       "      <td>No</td>\n",
       "      <td>Working Class</td>\n",
       "      <td>No</td>\n",
       "      <td>AP</td>\n",
       "    </tr>\n",
       "    <tr>\n",
       "      <th>1254</th>\n",
       "      <td>NaN</td>\n",
       "      <td>26.0</td>\n",
       "      <td>11.0</td>\n",
       "      <td>539.0</td>\n",
       "      <td>NaN</td>\n",
       "      <td>3.19</td>\n",
       "      <td>24.84</td>\n",
       "      <td>No</td>\n",
       "      <td>Yes</td>\n",
       "      <td>No</td>\n",
       "      <td>Roadways</td>\n",
       "      <td>No</td>\n",
       "      <td>Wealthy</td>\n",
       "      <td>No</td>\n",
       "      <td>NM</td>\n",
       "    </tr>\n",
       "    <tr>\n",
       "      <th>4484</th>\n",
       "      <td>0.73</td>\n",
       "      <td>NaN</td>\n",
       "      <td>3.0</td>\n",
       "      <td>35.0</td>\n",
       "      <td>NaN</td>\n",
       "      <td>3.33</td>\n",
       "      <td>16.10</td>\n",
       "      <td>No</td>\n",
       "      <td>No</td>\n",
       "      <td>Yes</td>\n",
       "      <td>Roadways</td>\n",
       "      <td>Yes</td>\n",
       "      <td>Working Class</td>\n",
       "      <td>No</td>\n",
       "      <td>IL</td>\n",
       "    </tr>\n",
       "    <tr>\n",
       "      <th>4911</th>\n",
       "      <td>0.94</td>\n",
       "      <td>17.0</td>\n",
       "      <td>6.0</td>\n",
       "      <td>217.0</td>\n",
       "      <td>Aluminium</td>\n",
       "      <td>4.98</td>\n",
       "      <td>24.17</td>\n",
       "      <td>Yes</td>\n",
       "      <td>No</td>\n",
       "      <td>Yes</td>\n",
       "      <td>Waterways</td>\n",
       "      <td>No</td>\n",
       "      <td>Working Class</td>\n",
       "      <td>No</td>\n",
       "      <td>SD</td>\n",
       "    </tr>\n",
       "    <tr>\n",
       "      <th>4673</th>\n",
       "      <td>0.10</td>\n",
       "      <td>10.0</td>\n",
       "      <td>4.0</td>\n",
       "      <td>146.0</td>\n",
       "      <td>Aluminium</td>\n",
       "      <td>6.67</td>\n",
       "      <td>22.69</td>\n",
       "      <td>Yes</td>\n",
       "      <td>No</td>\n",
       "      <td>No</td>\n",
       "      <td>Airways</td>\n",
       "      <td>No</td>\n",
       "      <td>Working Class</td>\n",
       "      <td>No</td>\n",
       "      <td>CO</td>\n",
       "    </tr>\n",
       "  </tbody>\n",
       "</table>\n",
       "</div>"
      ],
      "text/plain": [
       "      Artist Reputation  Height  Width      Weight   Material  \\\n",
       "1314               0.47    42.0   33.0  29282087.0      Stone   \n",
       "1254                NaN    26.0   11.0       539.0        NaN   \n",
       "4484               0.73     NaN    3.0        35.0        NaN   \n",
       "4911               0.94    17.0    6.0       217.0  Aluminium   \n",
       "4673               0.10    10.0    4.0       146.0  Aluminium   \n",
       "\n",
       "      Price Of Sculpture  Base Shipping Price International Express Shipment  \\\n",
       "1314           105746.47                50.94            No               No   \n",
       "1254                3.19                24.84            No              Yes   \n",
       "4484                3.33                16.10            No               No   \n",
       "4911                4.98                24.17           Yes               No   \n",
       "4673                6.67                22.69           Yes               No   \n",
       "\n",
       "     Installation Included  Transport Fragile Customer Information  \\\n",
       "1314                    No   Roadways      No        Working Class   \n",
       "1254                    No   Roadways      No              Wealthy   \n",
       "4484                   Yes   Roadways     Yes        Working Class   \n",
       "4911                   Yes  Waterways      No        Working Class   \n",
       "4673                    No    Airways      No        Working Class   \n",
       "\n",
       "     Remote Location Customer Location  \n",
       "1314              No                AP  \n",
       "1254              No                NM  \n",
       "4484              No                IL  \n",
       "4911              No                SD  \n",
       "4673              No                CO  "
      ]
     },
     "execution_count": 8,
     "metadata": {},
     "output_type": "execute_result"
    }
   ],
   "source": [
    "X_train.head()"
   ]
  },
  {
   "cell_type": "code",
   "execution_count": 36,
   "id": "hairy-brisbane",
   "metadata": {},
   "outputs": [
    {
     "data": {
      "text/plain": [
       "array([5, 7, 7, ..., 6, 3, 6])"
      ]
     },
     "execution_count": 36,
     "metadata": {},
     "output_type": "execute_result"
    }
   ],
   "source": [
    "encoder.fit_transform(X_train['Material'])\n",
    "# encoder.fit(X_train['International'])"
   ]
  },
  {
   "cell_type": "code",
   "execution_count": 37,
   "id": "romantic-business",
   "metadata": {},
   "outputs": [
    {
     "data": {
      "text/plain": [
       "array(['Aluminium', 'Brass', 'Bronze', 'Clay', 'Marble', 'Stone', 'Wood',\n",
       "       nan], dtype=object)"
      ]
     },
     "execution_count": 37,
     "metadata": {},
     "output_type": "execute_result"
    }
   ],
   "source": [
    "encoder.classes_"
   ]
  },
  {
   "cell_type": "code",
   "execution_count": 27,
   "id": "environmental-pride",
   "metadata": {},
   "outputs": [],
   "source": [
    "imputer = SimpleImputer(strategy=\"most_frequent\")\n",
    "scaler = StandardScaler()\n",
    "poly = PolynomialFeatures(degree=2)\n",
    "lin_reg = LinearRegression()\n",
    "encoder = LabelEncoder()\n",
    "\n",
    "col_transform = ColumnTransformer(\n",
    "    remainder='passthrough',\n",
    "    transformers=[\n",
    "        ('scaler1', scaler, [1,2,3,5,6]),\n",
    "        ('encoder', encoder, [4])\n",
    "    ]\n",
    ")\n",
    "\n",
    "pipe = Pipeline([\n",
    "    ('imputer', imputer),\n",
    "    ('transformer', col_transform),\n",
    "    ('polyfeatures', poly),\n",
    "    ('regressor', lin_reg)\n",
    "])"
   ]
  },
  {
   "cell_type": "code",
   "execution_count": null,
   "id": "major-rally",
   "metadata": {},
   "outputs": [],
   "source": [
    "pipe.fit(X_train, y_train)"
   ]
  },
  {
   "cell_type": "code",
   "execution_count": null,
   "id": "respected-terminology",
   "metadata": {},
   "outputs": [],
   "source": [
    "pipe.predict(X_test)"
   ]
  }
 ],
 "metadata": {
  "kernelspec": {
   "display_name": "venv",
   "language": "python",
   "name": "venv"
  },
  "language_info": {
   "codemirror_mode": {
    "name": "ipython",
    "version": 3
   },
   "file_extension": ".py",
   "mimetype": "text/x-python",
   "name": "python",
   "nbconvert_exporter": "python",
   "pygments_lexer": "ipython3",
   "version": "3.8.5"
  }
 },
 "nbformat": 4,
 "nbformat_minor": 5
}
